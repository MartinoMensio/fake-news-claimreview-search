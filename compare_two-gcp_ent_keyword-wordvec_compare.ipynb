{
 "cells": [
  {
   "cell_type": "code",
   "execution_count": 1,
   "metadata": {},
   "outputs": [],
   "source": [
    "# dot product of keyphrase comparison (weighted)"
   ]
  },
  {
   "cell_type": "markdown",
   "metadata": {},
   "source": [
    "### Installation script\n",
    "```\n",
    "conda create -n ner python=3.6\n",
    "source activate ner\n",
    "conda install -c conda-forge spacy -y\n",
    "conda install ipython jupyter nb_conda nltk numpy matplotlib -y\n",
    "conda install -c conda-forge rake_nltk -y\n",
    "python -m spacy download en\n",
    "python -m spacy download en_core_web_sm\n",
    "python -m spacy download en_core_web_lg\n",
    "\n",
    "conda install jupyter nb_conda ipykernel six wikipedia -y\n",
    "conda install -c conda-forge google-api-python-client -y\n",
    "pip install --upgrade google-cloud-language\n",
    "pip install wikipedia\n",
    "\n",
    "export GOOGLE_APPLICATION_CREDENTIALS=\"/Users/hkmac/keys/gcp.json\"\n",
    "export 'GOOGLE_APPLICATION_CREDENTIALS=\"/path/to/google_api_key\"' >> ~/.bashrc\n",
    "\n",
    "```\n"
   ]
  },
  {
   "cell_type": "markdown",
   "metadata": {},
   "source": [
    "# Testing sample code"
   ]
  },
  {
   "cell_type": "markdown",
   "metadata": {},
   "source": [
    "now we use Google API to extract the keywords"
   ]
  },
  {
   "cell_type": "code",
   "execution_count": 37,
   "metadata": {},
   "outputs": [],
   "source": [
    "claim = \"Barack Obama is born in Kenya\"\n",
    "text = \"Kenyan-born Obama is taking our guns away.\"\n",
    "# text = '''Malaysia has successfully received a helpline from China, with the US$20 billion High Speed Rail project cancelled without any condition. China’s project contractor, China Communications Communication Co Ltd, said in their press release they had since laid off more than 1,800 of the 2,250 employees hired for the East Coast Rail Link project – the High Speed Rail equivalent between Singapore and Malaysia.\n",
    "\n",
    "# According to Malaysia Prime Minister Mahathir Mohamad, the project would be cancelled until the country’s finance improved. Malaysia is currently under a trillion RM debt, incurred through corruptions under former Malaysia PM Najib Razak. China’s Foreign Minister Lu Kang expressed China’s understanding and highlighted the need for a common consensus:\n",
    "\n",
    "# “Mahathir had said during his visit that China’s development was an opportunity for Malaysia. Both countries’ peoples benefit from their trade and business relations. But in the cooperation between any two countries, it can’t be avoided that there may be various kinds of problems, and different views at different times. Such differences should be appropriately resolved by friendly consultations, and that it was an important consensus reached by both countries.”\n",
    "\n",
    "# Malaysia’s closest neighbour, Singapore, however refused to empathise with Malaysia and demanded a hefty payout on top of the contracted penalty of US$125 million. Singapore’s Transport Minister Khaw Boon Wan had repeatedly blamed Malaysia for not issuing “an official notice”, and threatened that the project is incurring costs up to S$250 million which he said will claim a portion from Malaysia.\n",
    "\n",
    "# The move from Singapore is no surprise as the Singapore’s ruling party government wants to see the bankruptcy and failure of the new Malaysian government. As many Singaporeans have been encouraged by Malaysia’s new regime change away from dictatorship rule, a similar collapse of the ruling party PAP is expected in the coming election in 2019. The Singapore government is hoping to trip up Malaysia’s new government, and use their neighbour’s failure as a threat against anti-establishment vote.\n",
    "# '''"
   ]
  },
  {
   "cell_type": "code",
   "execution_count": 38,
   "metadata": {},
   "outputs": [],
   "source": [
    "import argparse\n",
    "import sys\n",
    "\n",
    "from google.cloud import language\n",
    "from google.cloud.language import enums\n",
    "from google.cloud.language import types\n",
    "import six\n",
    "\n",
    "# from snippets import do_everything"
   ]
  },
  {
   "cell_type": "code",
   "execution_count": 69,
   "metadata": {},
   "outputs": [],
   "source": [
    "# [START language_entities_text]\n",
    "def entities_text(text, debug=False):\n",
    "    \"\"\"Detects entities in the text.\"\"\"\n",
    "    client = language.LanguageServiceClient()\n",
    "\n",
    "    if isinstance(text, six.binary_type):\n",
    "        text = text.decode('utf-8')\n",
    "\n",
    "    # Instantiates a plain text document.\n",
    "    # [START language_python_migration_entities_text]\n",
    "    document = types.Document(\n",
    "        content=text,\n",
    "        type=enums.Document.Type.PLAIN_TEXT)\n",
    "\n",
    "    # Detects entities in the document. You can also analyze HTML with:\n",
    "    #   document.type == enums.Document.Type.HTML\n",
    "    entities = client.analyze_entities(document).entities\n",
    "\n",
    "    # entity types from enums.Entity.Type\n",
    "    entity_type = ('UNKNOWN', 'PERSON', 'LOCATION', 'ORGANIZATION',\n",
    "                   'EVENT', 'WORK_OF_ART', 'CONSUMER_GOOD', 'OTHER')\n",
    "\n",
    "    entity_name_list = []\n",
    "    \n",
    "    for entity in entities:\n",
    "        entity_name_list.append([entity.salience, entity.name])\n",
    "        if debug:\n",
    "            print('=' * 20)\n",
    "            print(u'{:<16}: {}'.format('name', entity.name))\n",
    "            print(u'{:<16}: {}'.format('type', entity_type[entity.type]))\n",
    "            print(u'{:<16}: {}'.format('metadata', entity.metadata))\n",
    "            print(u'{:<16}: {}'.format('salience', entity.salience))\n",
    "            print(u'{:<16}: {}'.format('wikipedia_url',\n",
    "                  entity.metadata.get('wikipedia_url', '-')))\n",
    "    \n",
    "    return entity_name_list\n",
    "    \n",
    "    # [END language_python_migration_entities_text]\n",
    "# [END language_entities_text]"
   ]
  },
  {
   "cell_type": "code",
   "execution_count": 70,
   "metadata": {
    "scrolled": false
   },
   "outputs": [
    {
     "name": "stdout",
     "output_type": "stream",
     "text": [
      "[[0.6520990133285522, 'Donald Trump'], [0.21015027165412903, 'idiot'], [0.08425221592187881, 'person'], [0.05349848046898842, 'fun']]\n",
      "[[0.7983086109161377, 'Donald trump'], [0.20169135928153992, 'reporter']]\n"
     ]
    }
   ],
   "source": [
    "print(entities_text(text))\n",
    "print(entities_text(claim))"
   ]
  },
  {
   "cell_type": "code",
   "execution_count": null,
   "metadata": {},
   "outputs": [],
   "source": []
  },
  {
   "cell_type": "code",
   "execution_count": 42,
   "metadata": {},
   "outputs": [
    {
     "name": "stdout",
     "output_type": "stream",
     "text": [
      "====================\n",
      "name            : Kenyan\n",
      "type            : LOCATION\n",
      "metadata        : <google.protobuf.pyext._message.ScalarMapContainer object at 0x10503d7b0>\n",
      "salience        : 0.6280301213264465\n",
      "wikipedia_url   : https://en.wikipedia.org/wiki/Kenya\n",
      "====================\n",
      "name            : Obama\n",
      "type            : PERSON\n",
      "metadata        : <google.protobuf.pyext._message.ScalarMapContainer object at 0x10503d080>\n",
      "salience        : 0.25501739978790283\n",
      "wikipedia_url   : https://en.wikipedia.org/wiki/Barack_Obama\n",
      "====================\n",
      "name            : guns\n",
      "type            : CONSUMER_GOOD\n",
      "metadata        : <google.protobuf.pyext._message.ScalarMapContainer object at 0x10503db70>\n",
      "salience        : 0.11695248633623123\n",
      "wikipedia_url   : -\n"
     ]
    }
   ],
   "source": [
    "# r1 = Rake()\n",
    "# r1.extract_keywords_from_text(\"In August 2018, adhesive replicas of President Donald Trump's recently-destroyed star were placed on the Walk of Fame on Hollywood Boulevard.\")\n",
    "r1_scored = entities_text(text)"
   ]
  },
  {
   "cell_type": "code",
   "execution_count": 43,
   "metadata": {},
   "outputs": [
    {
     "name": "stdout",
     "output_type": "stream",
     "text": [
      "====================\n",
      "name            : Barack Obama\n",
      "type            : PERSON\n",
      "metadata        : <google.protobuf.pyext._message.ScalarMapContainer object at 0x10503d080>\n",
      "salience        : 0.6612948775291443\n",
      "wikipedia_url   : https://en.wikipedia.org/wiki/Barack_Obama\n",
      "====================\n",
      "name            : Kenya\n",
      "type            : LOCATION\n",
      "metadata        : <google.protobuf.pyext._message.ScalarMapContainer object at 0x10503de40>\n",
      "salience        : 0.3387051224708557\n",
      "wikipedia_url   : https://en.wikipedia.org/wiki/Kenya\n"
     ]
    }
   ],
   "source": [
    "# r2 = Rake()\n",
    "# r2.extract_keywords_from_text(\"Someone pasted stars for Donald Trump.\")\n",
    "r2_scored = entities_text(claim)"
   ]
  },
  {
   "cell_type": "markdown",
   "metadata": {},
   "source": [
    "spaCy vectors"
   ]
  },
  {
   "cell_type": "code",
   "execution_count": 44,
   "metadata": {},
   "outputs": [
    {
     "name": "stderr",
     "output_type": "stream",
     "text": [
      "/anaconda3/envs/ner/lib/python3.6/importlib/_bootstrap.py:219: RuntimeWarning: numpy.dtype size changed, may indicate binary incompatibility. Expected 96, got 88\n",
      "  return f(*args, **kwds)\n",
      "/anaconda3/envs/ner/lib/python3.6/importlib/_bootstrap.py:219: RuntimeWarning: numpy.ufunc size changed, may indicate binary incompatibility. Expected 192, got 176\n",
      "  return f(*args, **kwds)\n",
      "/anaconda3/envs/ner/lib/python3.6/importlib/_bootstrap.py:219: RuntimeWarning: numpy.dtype size changed, may indicate binary incompatibility. Expected 96, got 88\n",
      "  return f(*args, **kwds)\n",
      "/anaconda3/envs/ner/lib/python3.6/importlib/_bootstrap.py:219: RuntimeWarning: numpy.ufunc size changed, may indicate binary incompatibility. Expected 192, got 176\n",
      "  return f(*args, **kwds)\n"
     ]
    },
    {
     "name": "stdout",
     "output_type": "stream",
     "text": [
      "dog True 7.0336733 False\n",
      "(300,)\n",
      "cat True 6.6808186 False\n",
      "(300,)\n",
      "banana True 6.700014 False\n",
      "(300,)\n",
      "Obama True 7.414071 False\n",
      "(300,)\n"
     ]
    }
   ],
   "source": [
    "import spacy\n",
    "import numpy as np\n",
    "import matplotlib.pyplot as plt\n",
    "\n",
    "nlp = spacy.load('en_core_web_lg')\n",
    "tokens = nlp(u'dog cat banana Obama')\n",
    "\n",
    "for token in tokens:\n",
    "    print(token.text, token.has_vector, token.vector_norm, token.is_oov)\n",
    "    print(np.shape(token.vector))\n",
    "    plt.plot(token.vector)"
   ]
  },
  {
   "cell_type": "markdown",
   "metadata": {},
   "source": [
    "# Comparing phrases with max-min pooled word vectors"
   ]
  },
  {
   "cell_type": "code",
   "execution_count": 45,
   "metadata": {},
   "outputs": [
    {
     "data": {
      "text/plain": [
       "[<matplotlib.lines.Line2D at 0x105008780>]"
      ]
     },
     "execution_count": 45,
     "metadata": {},
     "output_type": "execute_result"
    },
    {
     "data": {
      "image/png": "[encoded data removed]",
      "text/plain": [
       "<Figure size 864x288 with 1 Axes>"
      ]
     },
     "metadata": {},
     "output_type": "display_data"
    }
   ],
   "source": [
    "import numpy as np\n",
    "\n",
    "\n",
    "# tokens1 = nlp(u'President')\n",
    "# tokens2 = nlp(u'Obama')\n",
    "# tokens3 = nlp(u'Trump Jr')\n",
    "\n",
    "def phrase_vect(text):\n",
    "    tokens = nlp(text)\n",
    "    maxpool = np.maximum.reduce([token.vector for token in tokens])\n",
    "    minpool = np.minimum.reduce([token.vector for token in tokens])\n",
    "    # https://stackoverflow.com/questions/21816433/\n",
    "    result = np.concatenate((minpool,maxpool))\n",
    "    return result\n",
    "\n",
    "# def phrase_vect(tokens):\n",
    "#     maxpool = np.maximum.reduce([token.vector for token in tokens])\n",
    "#     minpool = np.minimum.reduce([token.vector for token in tokens])\n",
    "#     result = np.concatenate((minpool,maxpool))\n",
    "#     plt.plot(result)\n",
    "#     return result\n",
    "    \n",
    "vector1 = phrase_vect(u'President')\n",
    "vector2 = phrase_vect(u'Obama')\n",
    "vector3 = phrase_vect(u'Trump Jr')\n",
    "\n",
    "plt.figure(figsize=(12,4))\n",
    "plt.plot(vector1)\n",
    "plt.plot(vector2)\n",
    "plt.plot(vector3)\n"
   ]
  },
  {
   "cell_type": "code",
   "execution_count": 46,
   "metadata": {},
   "outputs": [],
   "source": [
    "def cosine(u,v):\n",
    "#     print(np.shape(u))\n",
    "    return np.dot(u,v)/(np.linalg.norm(u)*np.linalg.norm(v))"
   ]
  },
  {
   "cell_type": "code",
   "execution_count": 47,
   "metadata": {},
   "outputs": [
    {
     "data": {
      "text/plain": [
       "0.4542843"
      ]
     },
     "execution_count": 47,
     "metadata": {},
     "output_type": "execute_result"
    }
   ],
   "source": [
    "cosine(vector1,vector2)"
   ]
  },
  {
   "cell_type": "code",
   "execution_count": 48,
   "metadata": {},
   "outputs": [],
   "source": [
    "# ok building a color plot instead"
   ]
  },
  {
   "cell_type": "code",
   "execution_count": 49,
   "metadata": {},
   "outputs": [],
   "source": [
    "phrase_list = [\n",
    "    \"President of the United States\",\n",
    "    \"POTUS\",\n",
    "    \"President\",\n",
    "    \"President Obama\",\n",
    "    \"Barack Obama\",\n",
    "    \"Obama\",\n",
    "    \"Osama\",\n",
    "    \"President Clinton\",\n",
    "    \"Bill Clinton\",\n",
    "    \"Clinton\",\n",
    "    \"Hillary Clinton\",\n",
    "    \"Hillary\",\n",
    "    \"Trump\",\n",
    "    \"Trump Jr\",\n",
    "    \"Donald Trump\",\n",
    "    \"President Trump\",\n",
    "    \"Ice Cream\",\n",
    "    \"Lee Kuan Yew\",\n",
    "    \"Python\",\n",
    "    \"Singapore\"\n",
    "]"
   ]
  },
  {
   "cell_type": "code",
   "execution_count": 50,
   "metadata": {},
   "outputs": [],
   "source": [
    "def meshgrid(x,y): # DW code !!!\n",
    "    return (\n",
    "        [[x_ for x_ in x] for  _ in y],\n",
    "        [[y_ for  _ in x] for y_ in y])\n",
    "\n",
    "pair_mesh = meshgrid(phrase_list, phrase_list)\n",
    "value_mesh = meshgrid([0]*len(phrase_list), [0]*len(phrase_list))\n",
    "\n",
    "import numpy as np\n",
    "for i,_ in enumerate(pair_mesh[0]):\n",
    "    for j,_ in enumerate(pair_mesh[0][0]): \n",
    "        phrase1 = pair_mesh[0][i][j]\n",
    "        phrase2 = pair_mesh[1][i][j]\n",
    "        \n",
    "#         tokens1 = nlp(phrase1)\n",
    "#         tokens2 = nlp(phrase2)\n",
    "        \n",
    "        vector1 = phrase_vect(phrase1)\n",
    "        vector2 = phrase_vect(phrase2)\n",
    "        \n",
    "        value_mesh[0][i][j] = cosine(vector1, vector2)"
   ]
  },
  {
   "cell_type": "code",
   "execution_count": 51,
   "metadata": {},
   "outputs": [
    {
     "name": "stdout",
     "output_type": "stream",
     "text": [
      "(20, 20)\n"
     ]
    },
    {
     "data": {
      "image/png": "[encoded data removed]",
      "text/plain": [
       "<Figure size 864x864 with 2 Axes>"
      ]
     },
     "metadata": {},
     "output_type": "display_data"
    }
   ],
   "source": [
    "import matplotlib.pyplot as plt\n",
    "print(np.shape(value_mesh[0]))\n",
    "# fig, ax = plt.subplots(1,1)\n",
    "\n",
    "# ax.imshow(value_mesh[0])\n",
    "plt.figure(figsize=(12,12))\n",
    "plt.imshow(np.transpose(value_mesh[0]), cmap='gray_r')\n",
    "plt.clim(0.5,1)\n",
    "plt.yticks(np.arange(len(phrase_list)), phrase_list)\n",
    "plt.xticks(np.arange(len(phrase_list)), phrase_list, rotation='vertical')\n",
    "plt.colorbar()\n",
    "plt.show()"
   ]
  },
  {
   "cell_type": "markdown",
   "metadata": {},
   "source": [
    "## Comparing claim with text\n"
   ]
  },
  {
   "cell_type": "code",
   "execution_count": 52,
   "metadata": {},
   "outputs": [],
   "source": [
    "claim = \"Obama is born in Kenya.\"\n",
    "text = \"Kenya born Obama is a secret Muslim and he is taking our guns away.\""
   ]
  },
  {
   "cell_type": "code",
   "execution_count": 54,
   "metadata": {},
   "outputs": [
    {
     "name": "stdout",
     "output_type": "stream",
     "text": [
      "====================\n",
      "name            : Obama\n",
      "type            : PERSON\n",
      "metadata        : <google.protobuf.pyext._message.ScalarMapContainer object at 0x12bbe27b0>\n",
      "salience        : 0.9005488753318787\n",
      "wikipedia_url   : https://en.wikipedia.org/wiki/Barack_Obama\n",
      "====================\n",
      "name            : Kenya\n",
      "type            : LOCATION\n",
      "metadata        : <google.protobuf.pyext._message.ScalarMapContainer object at 0x12bbe24e0>\n",
      "salience        : 0.09945113211870193\n",
      "wikipedia_url   : https://en.wikipedia.org/wiki/Kenya\n",
      "[[0.9005488753318787, 'Obama'], [0.09945113211870193, 'Kenya']]\n",
      "====================\n",
      "name            : Obama\n",
      "type            : PERSON\n",
      "metadata        : <google.protobuf.pyext._message.ScalarMapContainer object at 0x12bbe2850>\n",
      "salience        : 0.6134647130966187\n",
      "wikipedia_url   : https://en.wikipedia.org/wiki/Barack_Obama\n",
      "====================\n",
      "name            : Kenya\n",
      "type            : LOCATION\n",
      "metadata        : <google.protobuf.pyext._message.ScalarMapContainer object at 0x12bc7f8a0>\n",
      "salience        : 0.22003260254859924\n",
      "wikipedia_url   : https://en.wikipedia.org/wiki/Kenya\n",
      "====================\n",
      "name            : guns\n",
      "type            : CONSUMER_GOOD\n",
      "metadata        : <google.protobuf.pyext._message.ScalarMapContainer object at 0x12bc8fda0>\n",
      "salience        : 0.0855381041765213\n",
      "wikipedia_url   : -\n",
      "====================\n",
      "name            : Muslim\n",
      "type            : OTHER\n",
      "metadata        : <google.protobuf.pyext._message.ScalarMapContainer object at 0x138033170>\n",
      "salience        : 0.08096456527709961\n",
      "wikipedia_url   : https://en.wikipedia.org/wiki/Muslim\n",
      "[[0.6134647130966187, 'Obama'], [0.22003260254859924, 'Kenya'], [0.0855381041765213, 'guns'], [0.08096456527709961, 'Muslim']]\n"
     ]
    }
   ],
   "source": [
    "r1_scored = entities_text(claim)\n",
    "print(r1_scored)\n",
    "\n",
    "r2_scored = entities_text(text)\n",
    "print(r2_scored)"
   ]
  },
  {
   "cell_type": "code",
   "execution_count": 55,
   "metadata": {},
   "outputs": [
    {
     "name": "stdout",
     "output_type": "stream",
     "text": [
      "2\n",
      "3\n",
      "2\n",
      "3\n"
     ]
    }
   ],
   "source": [
    "# assign vectors\n",
    "r1_scored_vec = [[claim_keyword_tuple[0], \n",
    "                  claim_keyword_tuple[1], \n",
    "                  phrase_vect(claim_keyword_tuple[1])] for claim_keyword_tuple in r1_scored]\n",
    "print(len(r1_scored_vec))\n",
    "print(len(r1_scored_vec[0]))\n",
    "\n",
    "r2_scored_vec = [[text_keyword_tuple[0], \n",
    "                  text_keyword_tuple[1], \n",
    "                  phrase_vect(text_keyword_tuple[1])] for text_keyword_tuple in r2_scored]\n",
    "print(len(r1_scored_vec))\n",
    "print(len(r1_scored_vec[0]))"
   ]
  },
  {
   "cell_type": "code",
   "execution_count": 56,
   "metadata": {},
   "outputs": [],
   "source": [
    "# compare statements\n",
    "\n",
    "pair_mesh = meshgrid(r1_scored_vec, r2_scored_vec)\n",
    "value_mesh = meshgrid([0]*len(r1_scored_vec), [0]*len(r2_scored_vec))\n",
    "\n",
    "import numpy as np\n",
    "for i,_ in enumerate(pair_mesh[0]):\n",
    "    for j,_ in enumerate(pair_mesh[0][0]): \n",
    "        vector1 = pair_mesh[0][i][j][2]\n",
    "        vector2 = pair_mesh[1][i][j][2]\n",
    "        \n",
    "        value_mesh[0][i][j] = cosine(vector1, vector2)"
   ]
  },
  {
   "cell_type": "code",
   "execution_count": 57,
   "metadata": {},
   "outputs": [
    {
     "name": "stdout",
     "output_type": "stream",
     "text": [
      "['Obama', 'Kenya']\n"
     ]
    }
   ],
   "source": [
    "print([keyword_tuple[1] for keyword_tuple in r1_scored_vec])"
   ]
  },
  {
   "cell_type": "code",
   "execution_count": 58,
   "metadata": {},
   "outputs": [
    {
     "name": "stdout",
     "output_type": "stream",
     "text": [
      "(4, 2)\n"
     ]
    },
    {
     "data": {
      "image/png": "[encoded data removed]",
      "text/plain": [
       "<Figure size 864x864 with 2 Axes>"
      ]
     },
     "metadata": {},
     "output_type": "display_data"
    }
   ],
   "source": [
    "import matplotlib.pyplot as plt\n",
    "print(np.shape(value_mesh[0]))\n",
    "# fig, ax = plt.subplots(1,1)\n",
    "\n",
    "# ax.imshow(value_mesh[0])\n",
    "plt.figure(figsize=(12,12))\n",
    "plt.imshow(np.transpose(value_mesh[0]), cmap='gray_r')\n",
    "plt.clim(0,1)\n",
    "plt.yticks(np.arange(len(r1_scored_vec)), \n",
    "           [keyword_tuple[1] for keyword_tuple in r1_scored_vec])\n",
    "plt.xticks(np.arange(len(r2_scored_vec)), \n",
    "           [keyword_tuple[1] for keyword_tuple in r2_scored_vec], \n",
    "           rotation='vertical')\n",
    "plt.colorbar()\n",
    "plt.show()"
   ]
  },
  {
   "cell_type": "code",
   "execution_count": 59,
   "metadata": {},
   "outputs": [
    {
     "name": "stdout",
     "output_type": "stream",
     "text": [
      "([[0.99999994, 0.44213256], [0.44213256, 1.0], [0.28555584, 0.0449827], [0.5048007, 0.3796451]], [[0, 0], [0, 0], [0, 0], [0, 0]])\n"
     ]
    }
   ],
   "source": [
    "print(value_mesh)"
   ]
  },
  {
   "cell_type": "code",
   "execution_count": 60,
   "metadata": {},
   "outputs": [],
   "source": [
    "def calculate_similarity_score(value_mesh):\n",
    "    similarity_array = np.maximum.reduce([row for row in value_mesh[0]])\n",
    "    weighted_similarity = np.multiply(similarity_array, [keyword_tuple[0] for keyword_tuple in r1_scored])\n",
    "    weighted_similarity_sum = np.sum(weighted_similarity)\n",
    "    sum_of_weights = np.sum([keyword_tuple[0] for keyword_tuple in r1_scored])\n",
    "    weighted_similarity_sum_over_weights = weighted_similarity_sum/sum_of_weights\n",
    "    return weighted_similarity_sum_over_weights"
   ]
  },
  {
   "cell_type": "code",
   "execution_count": 61,
   "metadata": {},
   "outputs": [
    {
     "name": "stdout",
     "output_type": "stream",
     "text": [
      "0.9999999463231046\n"
     ]
    }
   ],
   "source": [
    "print(calculate_similarity_score(value_mesh))"
   ]
  },
  {
   "cell_type": "code",
   "execution_count": 62,
   "metadata": {},
   "outputs": [],
   "source": [
    "# Without preprocessing"
   ]
  },
  {
   "cell_type": "code",
   "execution_count": 71,
   "metadata": {},
   "outputs": [],
   "source": [
    "import spacy\n",
    "import numpy as np\n",
    "import matplotlib.pyplot as plt\n",
    "from rake_nltk import Rake\n",
    "\n",
    "nlp = spacy.load('en_core_web_lg')\n",
    "\n",
    "def calculate_similarity_score(value_mesh, r1_scored, r2_scored):\n",
    "    similarity_array = np.maximum.reduce([row for row in value_mesh[0]])\n",
    "    weighted_similarity = np.multiply(similarity_array, [keyword_tuple[0] for keyword_tuple in r1_scored])\n",
    "    weighted_similarity_sum = np.sum(weighted_similarity)\n",
    "    sum_of_weights = np.sum([keyword_tuple[0] for keyword_tuple in r1_scored])\n",
    "    weighted_similarity_sum_over_weights = weighted_similarity_sum/sum_of_weights\n",
    "    return weighted_similarity_sum_over_weights\n",
    "\n",
    "def phrase_vect(text):\n",
    "    tokens = nlp(text)\n",
    "    maxpool = np.maximum.reduce([token.vector for token in tokens])\n",
    "    minpool = np.minimum.reduce([token.vector for token in tokens])\n",
    "    # https://stackoverflow.com/questions/21816433/\n",
    "    result = np.concatenate((minpool,maxpool))\n",
    "    return result\n",
    "\n",
    "def meshgrid(x,y): # DW code !!!\n",
    "    return (\n",
    "        [[x_ for x_ in x] for  _ in y],\n",
    "        [[y_ for  _ in x] for y_ in y])\n",
    "\n",
    "def cosine(u,v):\n",
    "#     print(np.shape(u))\n",
    "    return np.dot(u,v)/(np.linalg.norm(u)*np.linalg.norm(v))\n",
    "\n",
    "def calculate_claim_text(claim, text):\n",
    "#     r1 = Rake()\n",
    "#     r1.extract_keywords_from_text(claim)\n",
    "    r1_scored = entities_text(claim)\n",
    "    print(r1_scored)\n",
    "\n",
    "#     r2 = Rake()\n",
    "#     r2.extract_keywords_from_text(text)\n",
    "    r2_scored = entities_text(text)\n",
    "    print(r2_scored)\n",
    "    \n",
    "    # assign vectors\n",
    "    r1_scored_vec = [[claim_keyword_tuple[0],  # keyword score\n",
    "                      claim_keyword_tuple[1],  # keyword phrase\n",
    "#                       claim_keyword_tuple[1].split(), # list of keyword\n",
    "#                       len(claim_keyword_tuple[1].split()), # number of keyword\n",
    "                      phrase_vect(claim_keyword_tuple[1])] for claim_keyword_tuple in r1_scored]\n",
    "    print(len(r1_scored_vec))\n",
    "    print(len(r1_scored_vec[0]))\n",
    "\n",
    "    r2_scored_vec = [[text_keyword_tuple[0], \n",
    "                      text_keyword_tuple[1], \n",
    "                      phrase_vect(text_keyword_tuple[1])] for text_keyword_tuple in r2_scored]\n",
    "    print(len(r1_scored_vec))\n",
    "    print(len(r1_scored_vec[0]))\n",
    "    \n",
    "    \n",
    "    # compare statements\n",
    "\n",
    "    pair_mesh = meshgrid(r1_scored_vec, r2_scored_vec)\n",
    "    value_mesh = meshgrid([0]*len(r1_scored_vec), [0]*len(r2_scored_vec))\n",
    "    \n",
    "    for i,_ in enumerate(pair_mesh[0]):\n",
    "        for j,_ in enumerate(pair_mesh[0][0]): \n",
    "            vector1 = pair_mesh[0][i][j][2]\n",
    "            vector2 = pair_mesh[1][i][j][2]\n",
    "\n",
    "            value_mesh[0][i][j] = cosine(vector1, vector2)\n",
    "            \n",
    "    plt.figure(figsize=(12,12))\n",
    "    plt.imshow(np.transpose(value_mesh[0]), cmap='gray_r')\n",
    "    plt.clim(0,1)\n",
    "    plt.yticks(np.arange(len(r1_scored_vec)), \n",
    "               [keyword_tuple[1] for keyword_tuple in r1_scored_vec])\n",
    "    plt.xticks(np.arange(len(r2_scored_vec)), \n",
    "               [keyword_tuple[1] for keyword_tuple in r2_scored_vec], \n",
    "               rotation='vertical')\n",
    "    plt.colorbar()\n",
    "    plt.show()\n",
    "            \n",
    "    print(calculate_similarity_score(value_mesh, r1_scored, r2_scored))\n"
   ]
  },
  {
   "cell_type": "code",
   "execution_count": 72,
   "metadata": {},
   "outputs": [
    {
     "data": {
      "text/plain": [
       "['This', 'is', 'bad.']"
      ]
     },
     "execution_count": 72,
     "metadata": {},
     "output_type": "execute_result"
    }
   ],
   "source": [
    "\"This is bad.\".split()"
   ]
  },
  {
   "cell_type": "code",
   "execution_count": 74,
   "metadata": {},
   "outputs": [
    {
     "name": "stdout",
     "output_type": "stream",
     "text": [
      "[[0.7983086109161377, 'Donald trump'], [0.20169135928153992, 'reporter']]\n",
      "[[0.6520990133285522, 'Donald Trump'], [0.21015027165412903, 'idiot'], [0.08425221592187881, 'reporter'], [0.05349848046898842, 'fun']]\n",
      "2\n",
      "3\n",
      "2\n",
      "3\n"
     ]
    },
    {
     "data": {
      "image/png": "[encoded data removed]",
      "text/plain": [
       "<Figure size 864x864 with 2 Axes>"
      ]
     },
     "metadata": {},
     "output_type": "display_data"
    },
    {
     "name": "stdout",
     "output_type": "stream",
     "text": [
      "1.0\n"
     ]
    }
   ],
   "source": [
    "claim = \"Donald trump mocked a disabled reporter.\"\n",
    "text = \"We can see how Donald Trump is an idiot from how he made fun of a disabled reporter.\"\n",
    "calculate_claim_text(claim, text)"
   ]
  },
  {
   "cell_type": "code",
   "execution_count": null,
   "metadata": {},
   "outputs": [],
   "source": []
  },
  {
   "cell_type": "code",
   "execution_count": null,
   "metadata": {},
   "outputs": [],
   "source": []
  }
 ],
 "metadata": {
  "kernelspec": {
   "display_name": "Python [conda env:ner]",
   "language": "python",
   "name": "conda-env-ner-py"
  },
  "language_info": {
   "codemirror_mode": {
    "name": "ipython",
    "version": 3
   },
   "file_extension": ".py",
   "mimetype": "text/x-python",
   "name": "python",
   "nbconvert_exporter": "python",
   "pygments_lexer": "ipython3",
   "version": "3.6.6"
  }
 },
 "nbformat": 4,
 "nbformat_minor": 2
}
