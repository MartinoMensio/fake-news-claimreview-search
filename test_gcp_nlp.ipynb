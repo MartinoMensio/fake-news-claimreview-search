{
 "cells": [
  {
   "cell_type": "markdown",
   "metadata": {},
   "source": [
    "```\n",
    "conda create -n \"gcp_nlp\" python=3.6 -y\n",
    "source activate gcp_nlp\n",
    "conda install jupyter nb_conda ipykernel six wikipedia -y\n",
    "conda install -c conda-forge google-api-python-client -y\n",
    "pip install --upgrade google-cloud-language\n",
    "pip install wikipedia\n",
    "\n",
    "export GOOGLE_APPLICATION_CREDENTIALS=\"/Users/hkmac/keys/gcp.json\"\n",
    "export 'GOOGLE_APPLICATION_CREDENTIALS=\"/path/to/google_api_key\"' >> ~/.bashrc\n",
    "\n",
    "```"
   ]
  },
  {
   "cell_type": "code",
   "execution_count": 5,
   "metadata": {},
   "outputs": [],
   "source": [
    "claim = \"Obama is born in Kenya\"\n",
    "text = \"Kenya-born Obama is taking our guns away. Trump is an idiot.\"\n",
    "text = '''Malaysia has successfully received a helpline from China, with the US$20 billion High Speed Rail project cancelled without any condition. China’s project contractor, China Communications Communication Co Ltd, said in their press release they had since laid off more than 1,800 of the 2,250 employees hired for the East Coast Rail Link project – the High Speed Rail equivalent between Singapore and Malaysia.\n",
    "\n",
    "According to Malaysia Prime Minister Mahathir Mohamad, the project would be cancelled until the country’s finance improved. Malaysia is currently under a trillion RM debt, incurred through corruptions under former Malaysia PM Najib Razak. China’s Foreign Minister Lu Kang expressed China’s understanding and highlighted the need for a common consensus:\n",
    "\n",
    "“Mahathir had said during his visit that China’s development was an opportunity for Malaysia. Both countries’ peoples benefit from their trade and business relations. But in the cooperation between any two countries, it can’t be avoided that there may be various kinds of problems, and different views at different times. Such differences should be appropriately resolved by friendly consultations, and that it was an important consensus reached by both countries.”\n",
    "\n",
    "Malaysia’s closest neighbour, Singapore, however refused to empathise with Malaysia and demanded a hefty payout on top of the contracted penalty of US$125 million. Singapore’s Transport Minister Khaw Boon Wan had repeatedly blamed Malaysia for not issuing “an official notice”, and threatened that the project is incurring costs up to S$250 million which he said will claim a portion from Malaysia.\n",
    "\n",
    "The move from Singapore is no surprise as the Singapore’s ruling party government wants to see the bankruptcy and failure of the new Malaysian government. As many Singaporeans have been encouraged by Malaysia’s new regime change away from dictatorship rule, a similar collapse of the ruling party PAP is expected in the coming election in 2019. The Singapore government is hoping to trip up Malaysia’s new government, and use their neighbour’s failure as a threat against anti-establishment vote.\n",
    "'''"
   ]
  },
  {
   "cell_type": "code",
   "execution_count": 6,
   "metadata": {},
   "outputs": [],
   "source": [
    "import argparse\n",
    "import sys\n",
    "\n",
    "from google.cloud import language\n",
    "from google.cloud.language import enums\n",
    "from google.cloud.language import types\n",
    "import six\n",
    "\n",
    "from snippets import do_everything"
   ]
  },
  {
   "cell_type": "code",
   "execution_count": 7,
   "metadata": {},
   "outputs": [],
   "source": [
    "# [START language_entities_text]\n",
    "def entities_text(text):\n",
    "    \"\"\"Detects entities in the text.\"\"\"\n",
    "    client = language.LanguageServiceClient()\n",
    "\n",
    "    if isinstance(text, six.binary_type):\n",
    "        text = text.decode('utf-8')\n",
    "\n",
    "    # Instantiates a plain text document.\n",
    "    # [START language_python_migration_entities_text]\n",
    "    document = types.Document(\n",
    "        content=text,\n",
    "        type=enums.Document.Type.PLAIN_TEXT)\n",
    "\n",
    "    # Detects entities in the document. You can also analyze HTML with:\n",
    "    #   document.type == enums.Document.Type.HTML\n",
    "    entities = client.analyze_entities(document).entities\n",
    "\n",
    "    # entity types from enums.Entity.Type\n",
    "    entity_type = ('UNKNOWN', 'PERSON', 'LOCATION', 'ORGANIZATION',\n",
    "                   'EVENT', 'WORK_OF_ART', 'CONSUMER_GOOD', 'OTHER')\n",
    "\n",
    "    for entity in entities:\n",
    "        print('=' * 20)\n",
    "        print(u'{:<16}: {}'.format('name', entity.name))\n",
    "        print(u'{:<16}: {}'.format('type', entity_type[entity.type]))\n",
    "        print(u'{:<16}: {}'.format('metadata', entity.metadata))\n",
    "        print(u'{:<16}: {}'.format('salience', entity.salience))\n",
    "        print(u'{:<16}: {}'.format('wikipedia_url',\n",
    "              entity.metadata.get('wikipedia_url', '-')))\n",
    "    # [END language_python_migration_entities_text]\n",
    "# [END language_entities_text]\n"
   ]
  },
  {
   "cell_type": "code",
   "execution_count": 8,
   "metadata": {
    "scrolled": false
   },
   "outputs": [
    {
     "name": "stdout",
     "output_type": "stream",
     "text": [
      "detecting sentiment\n",
      "sentiment score: 0.0\n",
      "sentiment magnitude: 0.0\n",
      "\n",
      "\n",
      "detecting entities\n",
      "====================\n",
      "name            : Obama\n",
      "type            : PERSON\n",
      "metadata        : <google.protobuf.pyext._message.ScalarMapContainer object at 0x10581adf0>\n",
      "salience        : 0.8056573867797852\n",
      "wikipedia_url   : https://en.wikipedia.org/wiki/Barack_Obama\n",
      "====================\n",
      "name            : Kenya\n",
      "type            : LOCATION\n",
      "metadata        : <google.protobuf.pyext._message.ScalarMapContainer object at 0x1058f2c10>\n",
      "salience        : 0.19434259831905365\n",
      "wikipedia_url   : https://en.wikipedia.org/wiki/Kenya\n",
      "\n",
      "\n",
      "detecting syntax\n",
      "NOUN: Obama\n",
      "VERB: is\n",
      "VERB: born\n",
      "ADP: in\n",
      "NOUN: Kenya\n",
      "\n",
      "\n",
      "detecting entity sentiment\n",
      "Mentions: \n",
      "Name: \"Obama\"\n",
      "  Begin Offset : 0\n",
      "  Content : Obama\n",
      "  Magnitude : 0.0\n",
      "  Sentiment : 0.0\n",
      "  Type : 1\n",
      "Salience: 0.8056573867797852\n",
      "Sentiment: \n",
      "\n",
      "Mentions: \n",
      "Name: \"Kenya\"\n",
      "  Begin Offset : 17\n",
      "  Content : Kenya\n",
      "  Magnitude : 0.0\n",
      "  Sentiment : 0.0\n",
      "  Type : 1\n",
      "Salience: 0.19434259831905365\n",
      "Sentiment: \n",
      "\n"
     ]
    }
   ],
   "source": [
    "do_everything(claim)"
   ]
  },
  {
   "cell_type": "code",
   "execution_count": null,
   "metadata": {},
   "outputs": [],
   "source": []
  },
  {
   "cell_type": "code",
   "execution_count": null,
   "metadata": {},
   "outputs": [],
   "source": []
  },
  {
   "cell_type": "code",
   "execution_count": null,
   "metadata": {},
   "outputs": [],
   "source": []
  }
 ],
 "metadata": {
  "kernelspec": {
   "display_name": "Python [conda env:gcp_nlp]",
   "language": "python",
   "name": "conda-env-gcp_nlp-py"
  },
  "language_info": {
   "codemirror_mode": {
    "name": "ipython",
    "version": 3
   },
   "file_extension": ".py",
   "mimetype": "text/x-python",
   "name": "python",
   "nbconvert_exporter": "python",
   "pygments_lexer": "ipython3",
   "version": "3.6.6"
  }
 },
 "nbformat": 4,
 "nbformat_minor": 2
}
